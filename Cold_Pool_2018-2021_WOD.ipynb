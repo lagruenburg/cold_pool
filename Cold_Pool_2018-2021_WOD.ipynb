{
 "cells": [
  {
   "cell_type": "code",
   "execution_count": 1,
   "id": "conditional-narrow",
   "metadata": {},
   "outputs": [],
   "source": [
    "import numpy as np\n",
    "import matplotlib.pyplot as plt\n",
    "import xarray as xr\n",
    "import cartopy\n",
    "import pandas as pn\n",
    "from datetime import datetime"
   ]
  },
  {
   "cell_type": "code",
   "execution_count": null,
   "id": "horizontal-certificate",
   "metadata": {},
   "outputs": [],
   "source": [
    "CTD = xr.open_dataset('/Users/nyelab/Downloads/ocldb1617135921.23816_CTD.nc')\n"
   ]
  },
  {
   "cell_type": "code",
   "execution_count": null,
   "id": "geological-moral",
   "metadata": {},
   "outputs": [],
   "source": [
    "ctd = xr.open_dataset('/Users/nyelab/Downloads/ocldb1618525892.26926_CTD.nc')"
   ]
  },
  {
   "cell_type": "code",
   "execution_count": null,
   "id": "respiratory-branch",
   "metadata": {},
   "outputs": [],
   "source": [
    "np.shape(ctd.Temperature)\n"
   ]
  },
  {
   "cell_type": "code",
   "execution_count": null,
   "id": "considerable-knight",
   "metadata": {},
   "outputs": [],
   "source": [
    "xr.set_options(display_style=\n",
    "              'text')"
   ]
  },
  {
   "cell_type": "code",
   "execution_count": null,
   "id": "devoted-corporation",
   "metadata": {},
   "outputs": [],
   "source": [
    "ctd"
   ]
  },
  {
   "cell_type": "code",
   "execution_count": null,
   "id": "ongoing-relaxation",
   "metadata": {},
   "outputs": [],
   "source": [
    "ctd"
   ]
  },
  {
   "cell_type": "code",
   "execution_count": null,
   "id": "cordless-butterfly",
   "metadata": {},
   "outputs": [],
   "source": [
    "TDF = pn.DataFrame(data = ctd.Temperature,columns=['temp'])\n"
   ]
  },
  {
   "cell_type": "code",
   "execution_count": null,
   "id": "material-discrimination",
   "metadata": {},
   "outputs": [],
   "source": [
    "\n",
    "TDF['depth'] = ctd.z\n"
   ]
  },
  {
   "cell_type": "code",
   "execution_count": null,
   "id": "thorough-neighbor",
   "metadata": {},
   "outputs": [],
   "source": [
    "TDF\n"
   ]
  },
  {
   "cell_type": "code",
   "execution_count": null,
   "id": "certain-promise",
   "metadata": {},
   "outputs": [],
   "source": [
    "\n",
    "i=1\n",
    "cast = CTD.casts[i]\n",
    "lat = CTD.lat[i]\n",
    "lon = CTD.lon[i]\n",
    "time = CTD.time[i]\n",
    "num = int(CTD.z_row_size[i].values)\n"
   ]
  },
  {
   "cell_type": "code",
   "execution_count": null,
   "id": "congressional-bachelor",
   "metadata": {},
   "outputs": [],
   "source": [
    "TDF['cast']"
   ]
  },
  {
   "cell_type": "code",
   "execution_count": 2,
   "id": "altered-jaguar",
   "metadata": {},
   "outputs": [],
   "source": [
    "Cast = np.empty(9496)\n",
    "Year = np.empty(9496)\n",
    "Month = np.empty(9496)\n",
    "Day = np.empty(9496)\n",
    "Lat = np.empty(9496)\n",
    "Lon = np.empty(9496)"
   ]
  },
  {
   "cell_type": "code",
   "execution_count": null,
   "id": "satisfied-ministry",
   "metadata": {},
   "outputs": [],
   "source": [
    "a = 0\n",
    "for i in range(726):\n",
    "    cast = CTD.casts[i]\n",
    "    lat = CTD.lat[i]\n",
    "    lon = CTD.lon[i]\n",
    "    year = pn.to_datetime(CTD.time[i].values).year\n",
    "    month = pn.to_datetime(CTD.time[i].values).month\n",
    "    day = pn.to_datetime(CTD.time[i].values).day\n",
    "    num = int(CTD.z_row_size[i].values)\n",
    "    Cast[a:a+num] = cast\n",
    "    Year[a:a+num] = year\n",
    "    Month[a:a+num] = month\n",
    "    Day[a:a+num] = day\n",
    "    Lat[a:a+num] = lat\n",
    "    Lon[a:a+num] = lon\n",
    "    a=a+num"
   ]
  },
  {
   "cell_type": "code",
   "execution_count": null,
   "id": "mature-router",
   "metadata": {},
   "outputs": [],
   "source": [
    "TDF['cast'] = Cast\n",
    "TDF['year'] = Year\n",
    "TDF['month'] = Month\n",
    "TDF['day'] = Day\n",
    "TDF['lat'] = Lat\n",
    "TDF['lon'] = Lon"
   ]
  },
  {
   "cell_type": "code",
   "execution_count": null,
   "id": "funny-appliance",
   "metadata": {},
   "outputs": [],
   "source": [
    "TDF[30:60]"
   ]
  },
  {
   "cell_type": "code",
   "execution_count": null,
   "id": "mature-powder",
   "metadata": {},
   "outputs": [],
   "source": [
    "pn.to_datetime(CTD.time[1].values)"
   ]
  },
  {
   "cell_type": "code",
   "execution_count": null,
   "id": "aging-climate",
   "metadata": {},
   "outputs": [],
   "source": [
    "np.min(CTD.lon)"
   ]
  },
  {
   "cell_type": "code",
   "execution_count": null,
   "id": "adjacent-diana",
   "metadata": {},
   "outputs": [],
   "source": [
    "test = xr.open_dataset('/Users/nyelab/Downloads/ocldb1618533792.17769.CTD/wod_020180637O.nc')\n"
   ]
  },
  {
   "cell_type": "code",
   "execution_count": null,
   "id": "lovely-function",
   "metadata": {},
   "outputs": [],
   "source": [
    "ds = xr.open_dataset('/Users/nyelab/Downloads/ocldb1618533792.17769.CTD/wod_020180637O.nc')\n",
    "ctd_df = pn.DataFrame(data = ds.Temperature, columns = ['temp'])\n",
    "ctd_df['salt'] = ds.Salinity\n",
    "Lon = ds.lon.values\n",
    "Lat = ds.lat.values\n",
    "year = pn.to_datetime(ds.time.values).year\n",
    "month = pn.to_datetime(ds.time.values).month\n",
    "day = pn.to_datetime(ds.time.values).day\n",
    "ctd_df['year']=year\n",
    "ctd_df['month']=month\n",
    "ctd_df['day']=day\n",
    "ctd_df['lat']=Lat\n",
    "ctd_df['lon']=Lon\n",
    "ds.close()"
   ]
  },
  {
   "cell_type": "code",
   "execution_count": null,
   "id": "alpha-coast",
   "metadata": {},
   "outputs": [],
   "source": [
    "data = pn.DataFrame(data=np.empty([8,8]),columns = ['depth','temp','salt','lat','lon','year','month','day'])"
   ]
  },
  {
   "cell_type": "code",
   "execution_count": null,
   "id": "amber-ordinance",
   "metadata": {},
   "outputs": [],
   "source": [
    "data"
   ]
  },
  {
   "cell_type": "code",
   "execution_count": 3,
   "id": "relative-panama",
   "metadata": {},
   "outputs": [],
   "source": [
    "import os"
   ]
  },
  {
   "cell_type": "code",
   "execution_count": null,
   "id": "geological-moses",
   "metadata": {},
   "outputs": [],
   "source": [
    "for i in os.listdir(\"/Users/nyelab/Downloads/ocldb1618533792.17769.CTD/\"):\n",
    "    string = '/Users/nyelab/Downloads/ocldb1618533792.17769.CTD/'+i\n",
    "    array = xr.open_dataset(string)\n",
    "    data2 = pn.DataFrame(data = array.Temperature, columns = ['temp'])\n",
    "    data2['salt'] = array.Salinity\n",
    "    Lon = array.lon.values\n",
    "    Lat = array.lat.values\n",
    "    year = pn.to_datetime(array.time.values).year\n",
    "    month = pn.to_datetime(array.time.values).month\n",
    "    day = pn.to_datetime(array.time.values).day\n",
    "    data2['year']=year\n",
    "    data2['month']=month\n",
    "    data2['day']=day\n",
    "    data2['lat']=Lat\n",
    "    data2['lon']=Lon\n",
    "    data = data.append(data2)\n",
    "    array.close()"
   ]
  },
  {
   "cell_type": "code",
   "execution_count": null,
   "id": "nutritional-atlanta",
   "metadata": {},
   "outputs": [],
   "source": [
    "data = data.append(data2)\n",
    "array.close()\n"
   ]
  },
  {
   "cell_type": "code",
   "execution_count": null,
   "id": "continent-calendar",
   "metadata": {},
   "outputs": [],
   "source": [
    "os.listdir(\"/Users/nyelab/Downloads/ocldb1618533792.17769.CTD/\")"
   ]
  },
  {
   "cell_type": "code",
   "execution_count": null,
   "id": "forced-effect",
   "metadata": {},
   "outputs": [],
   "source": [
    "data"
   ]
  },
  {
   "cell_type": "code",
   "execution_count": null,
   "id": "contrary-timeline",
   "metadata": {},
   "outputs": [],
   "source": []
  }
 ],
 "metadata": {
  "kernelspec": {
   "display_name": "Python 3",
   "language": "python",
   "name": "python3"
  },
  "language_info": {
   "codemirror_mode": {
    "name": "ipython",
    "version": 3
   },
   "file_extension": ".py",
   "mimetype": "text/x-python",
   "name": "python",
   "nbconvert_exporter": "python",
   "pygments_lexer": "ipython3",
   "version": "3.8.5"
  }
 },
 "nbformat": 4,
 "nbformat_minor": 5
}
